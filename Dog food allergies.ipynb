{
 "cells": [
  {
   "cell_type": "code",
   "execution_count": 29,
   "metadata": {
    "collapsed": false
   },
   "outputs": [],
   "source": [
    "import numpy as np\n",
    "import pandas as pd\n",
    "import matplotlib as plt\n",
    "import altair as a\n",
    "\n",
    "%matplotlib inline"
   ]
  },
  {
   "cell_type": "code",
   "execution_count": 30,
   "metadata": {
    "collapsed": false
   },
   "outputs": [],
   "source": [
    "df = pd.read_excel('Dog food ingredients.xlsx')"
   ]
  },
  {
   "cell_type": "code",
   "execution_count": 31,
   "metadata": {
    "collapsed": false
   },
   "outputs": [
    {
     "name": "stdout",
     "output_type": "stream",
     "text": [
      "<class 'pandas.core.frame.DataFrame'>\n",
      "RangeIndex: 7 entries, 0 to 6\n",
      "Data columns (total 3 columns):\n",
      "Name           7 non-null object\n",
      "Ingredients    7 non-null object\n",
      "Result         7 non-null int64\n",
      "dtypes: int64(1), object(2)\n",
      "memory usage: 240.0+ bytes\n"
     ]
    }
   ],
   "source": [
    "df.info()"
   ]
  },
  {
   "cell_type": "code",
   "execution_count": 32,
   "metadata": {
    "collapsed": false
   },
   "outputs": [
    {
     "data": {
      "text/html": [
       "<div>\n",
       "<table border=\"1\" class=\"dataframe\">\n",
       "  <thead>\n",
       "    <tr style=\"text-align: right;\">\n",
       "      <th></th>\n",
       "      <th>Name</th>\n",
       "      <th>Ingredients</th>\n",
       "      <th>Result</th>\n",
       "    </tr>\n",
       "  </thead>\n",
       "  <tbody>\n",
       "    <tr>\n",
       "      <th>0</th>\n",
       "      <td>Solid Gold Bison</td>\n",
       "      <td>Bison, Ocean Fish Meal, Brown Rice, Peas, Cano...</td>\n",
       "      <td>1</td>\n",
       "    </tr>\n",
       "    <tr>\n",
       "      <th>1</th>\n",
       "      <td>Solid Gold Lamb</td>\n",
       "      <td>Lamb, Lamb Meal, Ocean Fish Meal, Pea Protein,...</td>\n",
       "      <td>0</td>\n",
       "    </tr>\n",
       "    <tr>\n",
       "      <th>2</th>\n",
       "      <td>Lotus Chicken</td>\n",
       "      <td>Chicken, Chicken Meal,Whole Ground Rye Whole G...</td>\n",
       "      <td>0</td>\n",
       "    </tr>\n",
       "    <tr>\n",
       "      <th>3</th>\n",
       "      <td>Beef frittata veg</td>\n",
       "      <td>Beef, Peas, Dried Whole Egg, Potatoes, Pea Pro...</td>\n",
       "      <td>0</td>\n",
       "    </tr>\n",
       "    <tr>\n",
       "      <th>4</th>\n",
       "      <td>Royal Canin Mini Special</td>\n",
       "      <td>Chicken meal, brewers rice, chicken fat, corn ...</td>\n",
       "      <td>0</td>\n",
       "    </tr>\n",
       "  </tbody>\n",
       "</table>\n",
       "</div>"
      ],
      "text/plain": [
       "                       Name  \\\n",
       "0          Solid Gold Bison   \n",
       "1           Solid Gold Lamb   \n",
       "2             Lotus Chicken   \n",
       "3         Beef frittata veg   \n",
       "4  Royal Canin Mini Special   \n",
       "\n",
       "                                         Ingredients  Result  \n",
       "0  Bison, Ocean Fish Meal, Brown Rice, Peas, Cano...       1  \n",
       "1  Lamb, Lamb Meal, Ocean Fish Meal, Pea Protein,...       0  \n",
       "2  Chicken, Chicken Meal,Whole Ground Rye Whole G...       0  \n",
       "3  Beef, Peas, Dried Whole Egg, Potatoes, Pea Pro...       0  \n",
       "4  Chicken meal, brewers rice, chicken fat, corn ...       0  "
      ]
     },
     "execution_count": 32,
     "metadata": {},
     "output_type": "execute_result"
    }
   ],
   "source": [
    "df.head()"
   ]
  },
  {
   "cell_type": "code",
   "execution_count": 33,
   "metadata": {
    "collapsed": false
   },
   "outputs": [
    {
     "data": {
      "text/plain": [
       "1193"
      ]
     },
     "execution_count": 33,
     "metadata": {},
     "output_type": "execute_result"
    }
   ],
   "source": [
    "len(df['Ingredients'][0])"
   ]
  },
  {
   "cell_type": "code",
   "execution_count": 34,
   "metadata": {
    "collapsed": true
   },
   "outputs": [],
   "source": [
    "df.Ingredients = df.Ingredients.apply(lambda x: x.split(','))"
   ]
  },
  {
   "cell_type": "code",
   "execution_count": 35,
   "metadata": {
    "collapsed": false
   },
   "outputs": [
    {
     "data": {
      "text/html": [
       "<div>\n",
       "<table border=\"1\" class=\"dataframe\">\n",
       "  <thead>\n",
       "    <tr style=\"text-align: right;\">\n",
       "      <th></th>\n",
       "      <th>Name</th>\n",
       "      <th>Ingredients</th>\n",
       "      <th>Result</th>\n",
       "    </tr>\n",
       "  </thead>\n",
       "  <tbody>\n",
       "    <tr>\n",
       "      <th>0</th>\n",
       "      <td>Solid Gold Bison</td>\n",
       "      <td>[Bison,  Ocean Fish Meal,  Brown Rice,  Peas, ...</td>\n",
       "      <td>1</td>\n",
       "    </tr>\n",
       "    <tr>\n",
       "      <th>1</th>\n",
       "      <td>Solid Gold Lamb</td>\n",
       "      <td>[Lamb,  Lamb Meal,  Ocean Fish Meal,  Pea Prot...</td>\n",
       "      <td>0</td>\n",
       "    </tr>\n",
       "    <tr>\n",
       "      <th>2</th>\n",
       "      <td>Lotus Chicken</td>\n",
       "      <td>[Chicken,  Chicken Meal, Whole Ground Rye Whol...</td>\n",
       "      <td>0</td>\n",
       "    </tr>\n",
       "    <tr>\n",
       "      <th>3</th>\n",
       "      <td>Beef frittata veg</td>\n",
       "      <td>[Beef,  Peas,  Dried Whole Egg,  Potatoes,  Pe...</td>\n",
       "      <td>0</td>\n",
       "    </tr>\n",
       "    <tr>\n",
       "      <th>4</th>\n",
       "      <td>Royal Canin Mini Special</td>\n",
       "      <td>[Chicken meal,  brewers rice,  chicken fat,  c...</td>\n",
       "      <td>0</td>\n",
       "    </tr>\n",
       "    <tr>\n",
       "      <th>5</th>\n",
       "      <td>Wellness CORE Small Breed</td>\n",
       "      <td>[Deboned Turkey,  Turkey Meal,  Chicken Meal, ...</td>\n",
       "      <td>0</td>\n",
       "    </tr>\n",
       "    <tr>\n",
       "      <th>6</th>\n",
       "      <td>Instinct Limited Ingredient - Lamb</td>\n",
       "      <td>[Lamb Meal,  Peas,  Tapioca,  Pea Protein,  Ca...</td>\n",
       "      <td>1</td>\n",
       "    </tr>\n",
       "  </tbody>\n",
       "</table>\n",
       "</div>"
      ],
      "text/plain": [
       "                                 Name  \\\n",
       "0                    Solid Gold Bison   \n",
       "1                     Solid Gold Lamb   \n",
       "2                       Lotus Chicken   \n",
       "3                   Beef frittata veg   \n",
       "4            Royal Canin Mini Special   \n",
       "5           Wellness CORE Small Breed   \n",
       "6  Instinct Limited Ingredient - Lamb   \n",
       "\n",
       "                                         Ingredients  Result  \n",
       "0  [Bison,  Ocean Fish Meal,  Brown Rice,  Peas, ...       1  \n",
       "1  [Lamb,  Lamb Meal,  Ocean Fish Meal,  Pea Prot...       0  \n",
       "2  [Chicken,  Chicken Meal, Whole Ground Rye Whol...       0  \n",
       "3  [Beef,  Peas,  Dried Whole Egg,  Potatoes,  Pe...       0  \n",
       "4  [Chicken meal,  brewers rice,  chicken fat,  c...       0  \n",
       "5  [Deboned Turkey,  Turkey Meal,  Chicken Meal, ...       0  \n",
       "6  [Lamb Meal,  Peas,  Tapioca,  Pea Protein,  Ca...       1  "
      ]
     },
     "execution_count": 35,
     "metadata": {},
     "output_type": "execute_result"
    }
   ],
   "source": [
    "df.head(20)"
   ]
  },
  {
   "cell_type": "code",
   "execution_count": 36,
   "metadata": {
    "collapsed": false
   },
   "outputs": [],
   "source": [
    "df['Num ingredients'] = df.Ingredients.apply(lambda x: len(x))"
   ]
  },
  {
   "cell_type": "code",
   "execution_count": 37,
   "metadata": {
    "collapsed": false
   },
   "outputs": [
    {
     "data": {
      "text/html": [
       "<div>\n",
       "<table border=\"1\" class=\"dataframe\">\n",
       "  <thead>\n",
       "    <tr style=\"text-align: right;\">\n",
       "      <th></th>\n",
       "      <th>Name</th>\n",
       "      <th>Ingredients</th>\n",
       "      <th>Result</th>\n",
       "      <th>Num ingredients</th>\n",
       "    </tr>\n",
       "  </thead>\n",
       "  <tbody>\n",
       "    <tr>\n",
       "      <th>0</th>\n",
       "      <td>Solid Gold Bison</td>\n",
       "      <td>[Bison,  Ocean Fish Meal,  Brown Rice,  Peas, ...</td>\n",
       "      <td>1</td>\n",
       "      <td>65</td>\n",
       "    </tr>\n",
       "    <tr>\n",
       "      <th>1</th>\n",
       "      <td>Solid Gold Lamb</td>\n",
       "      <td>[Lamb,  Lamb Meal,  Ocean Fish Meal,  Pea Prot...</td>\n",
       "      <td>0</td>\n",
       "      <td>61</td>\n",
       "    </tr>\n",
       "    <tr>\n",
       "      <th>2</th>\n",
       "      <td>Lotus Chicken</td>\n",
       "      <td>[Chicken,  Chicken Meal, Whole Ground Rye Whol...</td>\n",
       "      <td>0</td>\n",
       "      <td>49</td>\n",
       "    </tr>\n",
       "    <tr>\n",
       "      <th>3</th>\n",
       "      <td>Beef frittata veg</td>\n",
       "      <td>[Beef,  Peas,  Dried Whole Egg,  Potatoes,  Pe...</td>\n",
       "      <td>0</td>\n",
       "      <td>37</td>\n",
       "    </tr>\n",
       "    <tr>\n",
       "      <th>4</th>\n",
       "      <td>Royal Canin Mini Special</td>\n",
       "      <td>[Chicken meal,  brewers rice,  chicken fat,  c...</td>\n",
       "      <td>0</td>\n",
       "      <td>45</td>\n",
       "    </tr>\n",
       "  </tbody>\n",
       "</table>\n",
       "</div>"
      ],
      "text/plain": [
       "                       Name  \\\n",
       "0          Solid Gold Bison   \n",
       "1           Solid Gold Lamb   \n",
       "2             Lotus Chicken   \n",
       "3         Beef frittata veg   \n",
       "4  Royal Canin Mini Special   \n",
       "\n",
       "                                         Ingredients  Result  Num ingredients  \n",
       "0  [Bison,  Ocean Fish Meal,  Brown Rice,  Peas, ...       1               65  \n",
       "1  [Lamb,  Lamb Meal,  Ocean Fish Meal,  Pea Prot...       0               61  \n",
       "2  [Chicken,  Chicken Meal, Whole Ground Rye Whol...       0               49  \n",
       "3  [Beef,  Peas,  Dried Whole Egg,  Potatoes,  Pe...       0               37  \n",
       "4  [Chicken meal,  brewers rice,  chicken fat,  c...       0               45  "
      ]
     },
     "execution_count": 37,
     "metadata": {},
     "output_type": "execute_result"
    }
   ],
   "source": [
    "df.head()"
   ]
  },
  {
   "cell_type": "code",
   "execution_count": 38,
   "metadata": {
    "collapsed": false
   },
   "outputs": [
    {
     "data": {
      "text/plain": [
       "<matplotlib.axes._subplots.AxesSubplot at 0x118b0ce50>"
      ]
     },
     "execution_count": 38,
     "metadata": {},
     "output_type": "execute_result"
    },
    {
     "data": {
      "image/png": "[encoded data removed]",
      "text/plain": [
       "<matplotlib.figure.Figure at 0x11892a0d0>"
      ]
     },
     "metadata": {},
     "output_type": "display_data"
    }
   ],
   "source": [
    "df.plot()"
   ]
  },
  {
   "cell_type": "code",
   "execution_count": 40,
   "metadata": {
    "collapsed": true
   },
   "outputs": [],
   "source": [
    "df.to_csv('Dog_food.csv')"
   ]
  },
  {
   "cell_type": "code",
   "execution_count": null,
   "metadata": {
    "collapsed": true
   },
   "outputs": [],
   "source": []
  },
  {
   "cell_type": "code",
   "execution_count": null,
   "metadata": {
    "collapsed": true
   },
   "outputs": [],
   "source": []
  }
 ],
 "metadata": {
  "kernelspec": {
   "display_name": "Python 2",
   "language": "python",
   "name": "python2"
  },
  "language_info": {
   "codemirror_mode": {
    "name": "ipython",
    "version": 2
   },
   "file_extension": ".py",
   "mimetype": "text/x-python",
   "name": "python",
   "nbconvert_exporter": "python",
   "pygments_lexer": "ipython2",
   "version": "2.7.11"
  }
 },
 "nbformat": 4,
 "nbformat_minor": 1
}
